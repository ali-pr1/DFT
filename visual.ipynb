{
 "cells": [
  {
   "cell_type": "code",
   "execution_count": 1,
   "metadata": {},
   "outputs": [
    {
     "name": "stdout",
     "output_type": "stream",
     "text": [
      "Traceback (most recent call last):\n",
      "  File \"/home/user4/.pyenv/versions/3.8-dev/lib/python3.8/runpy.py\", line 194, in _run_module_as_main\n",
      "    return _run_code(code, main_globals, None,\n",
      "  File \"/home/user4/.pyenv/versions/3.8-dev/lib/python3.8/runpy.py\", line 87, in _run_code\n",
      "    exec(code, run_globals)\n",
      "  File \"/home/user4/.pyenv/versions/3.8-dev/lib/python3.8/site-packages/ase/gui/pipe.py\", line 32, in <module>\n",
      "    main()\n",
      "  File \"/home/user4/.pyenv/versions/3.8-dev/lib/python3.8/site-packages/ase/gui/pipe.py\", line 28, in main\n",
      "    plt.show()\n",
      "  File \"/home/user4/.pyenv/versions/3.8-dev/lib/python3.8/site-packages/matplotlib/pyplot.py\", line 368, in show\n",
      "    return _backend_mod.show(*args, **kwargs)\n",
      "  File \"/home/user4/.pyenv/versions/3.8-dev/lib/python3.8/site-packages/matplotlib_inline/backend_inline.py\", line 41, in show\n",
      "    display(\n",
      "  File \"/home/user4/.pyenv/versions/3.8-dev/lib/python3.8/site-packages/IPython/core/display.py\", line 285, in display\n",
      "    print(*objs)\n",
      "ValueError: I/O operation on closed file.\n"
     ]
    }
   ],
   "source": [
    "#After running structure optimization run the following cells\n",
    "import os\n",
    "dir='/home/user4/Documents/Ali/opt'\n",
    "if not os.path.exists(dir):\n",
    "    os.makedirs(dir)\n",
    "os.chdir(dir)\n",
    "# take a look at the new structure\n",
    "! ase gui H2O.traj"
   ]
  },
  {
   "cell_type": "code",
   "execution_count": 9,
   "metadata": {},
   "outputs": [
    {
     "name": "stdout",
     "output_type": "stream",
     "text": [
      "total energy: -14.49792518739778\n",
      "bond angles: 103.94896612492296\n"
     ]
    }
   ],
   "source": [
    "from ase.io import read\n",
    "atoms=read('H2O.traj')\n",
    "print('total energy:',atoms.get_total_energy())\n",
    "print('bond angles:' , atoms.get_angle(0,1,2))\n",
    "# for more information visit https://wiki.fysik.dtu.dk/ase/ase/atoms.html"
   ]
  }
 ],
 "metadata": {
  "interpreter": {
   "hash": "3fb490f0004ddcafdf37a54766d74865354557c9f658c5696746ec55f4f3cf6e"
  },
  "kernelspec": {
   "display_name": "Python 3.8.13 64-bit ('3.8-dev')",
   "language": "python",
   "name": "python3"
  },
  "language_info": {
   "codemirror_mode": {
    "name": "ipython",
    "version": 3
   },
   "file_extension": ".py",
   "mimetype": "text/x-python",
   "name": "python",
   "nbconvert_exporter": "python",
   "pygments_lexer": "ipython3",
   "version": "3.8.13+"
  },
  "orig_nbformat": 4
 },
 "nbformat": 4,
 "nbformat_minor": 2
}
